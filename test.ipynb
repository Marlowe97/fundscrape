{
 "cells": [
  {
   "cell_type": "code",
   "execution_count": 1,
   "metadata": {},
   "outputs": [],
   "source": [
    "import os\n",
    "import scrape\n",
    "import sys\n",
    "sys.path.append(\"E:/Marlowe/RA/npx_parse/\")\n",
    "from fundscrape.template import base, two_lines, up_down, blue, left_right\n",
    "from fundscrape.scrape import download\n",
    "from fundscrape.database import NpxVote\n",
    "import logging\n",
    "import pandas as pd\n",
    "from tqdm import tqdm\n",
    "\n",
    "os.chdir(\"E:/Marlowe/RA/npx_parse/\")\n",
    "\n",
    "# Read the file\n",
    "# category = pd.read_excel(\"Edgar list2019.xlsx\", sheet_name=\"category\")"
   ]
  },
  {
   "cell_type": "code",
   "execution_count": 2,
   "metadata": {},
   "outputs": [],
   "source": [
    "logger = logging.getLogger()\n",
    "logger.setLevel(logging.INFO)"
   ]
  },
  {
   "cell_type": "code",
   "execution_count": 5,
   "metadata": {},
   "outputs": [
    {
     "output_type": "execute_result",
     "data": {
      "text/plain": "  security_ID/cusip                  company_name ticker fund_company  \\\n0         007903107  ADVANCED MICRO DEVICES, INC.    AMD    360 Funds   \n1         007903107  ADVANCED MICRO DEVICES, INC.    AMD    360 Funds   \n2         007903107  ADVANCED MICRO DEVICES, INC.    AMD    360 Funds   \n3         007903107  ADVANCED MICRO DEVICES, INC.    AMD    360 Funds   \n4         007903107  ADVANCED MICRO DEVICES, INC.    AMD    360 Funds   \n\n  parent_fund_company meeting_date meeting_type  \\\n0           360 funds  02-May-2018       Annual   \n1           360 funds  02-May-2018       Annual   \n2           360 funds  02-May-2018       Annual   \n3           360 funds  02-May-2018       Annual   \n4           360 funds  02-May-2018       Annual   \n\n                                      proposal sponsor vote  \n0       Election of Director: John E. Caldwell    Mgmt  For  \n1         Election of Director: Nora M. Denzel    Mgmt  For  \n2            Election of Director: Mark Durcan    Mgmt  For  \n3  Election of Director: Joseph A. Householder    Mgmt  For  \n4      Election of Director: Michael J. Inglis    Mgmt  For  ",
      "text/html": "<div>\n<style scoped>\n    .dataframe tbody tr th:only-of-type {\n        vertical-align: middle;\n    }\n\n    .dataframe tbody tr th {\n        vertical-align: top;\n    }\n\n    .dataframe thead th {\n        text-align: right;\n    }\n</style>\n<table border=\"1\" class=\"dataframe\">\n  <thead>\n    <tr style=\"text-align: right;\">\n      <th></th>\n      <th>security_ID/cusip</th>\n      <th>company_name</th>\n      <th>ticker</th>\n      <th>fund_company</th>\n      <th>parent_fund_company</th>\n      <th>meeting_date</th>\n      <th>meeting_type</th>\n      <th>proposal</th>\n      <th>sponsor</th>\n      <th>vote</th>\n    </tr>\n  </thead>\n  <tbody>\n    <tr>\n      <th>0</th>\n      <td>007903107</td>\n      <td>ADVANCED MICRO DEVICES, INC.</td>\n      <td>AMD</td>\n      <td>360 Funds</td>\n      <td>360 funds</td>\n      <td>02-May-2018</td>\n      <td>Annual</td>\n      <td>Election of Director: John E. Caldwell</td>\n      <td>Mgmt</td>\n      <td>For</td>\n    </tr>\n    <tr>\n      <th>1</th>\n      <td>007903107</td>\n      <td>ADVANCED MICRO DEVICES, INC.</td>\n      <td>AMD</td>\n      <td>360 Funds</td>\n      <td>360 funds</td>\n      <td>02-May-2018</td>\n      <td>Annual</td>\n      <td>Election of Director: Nora M. Denzel</td>\n      <td>Mgmt</td>\n      <td>For</td>\n    </tr>\n    <tr>\n      <th>2</th>\n      <td>007903107</td>\n      <td>ADVANCED MICRO DEVICES, INC.</td>\n      <td>AMD</td>\n      <td>360 Funds</td>\n      <td>360 funds</td>\n      <td>02-May-2018</td>\n      <td>Annual</td>\n      <td>Election of Director: Mark Durcan</td>\n      <td>Mgmt</td>\n      <td>For</td>\n    </tr>\n    <tr>\n      <th>3</th>\n      <td>007903107</td>\n      <td>ADVANCED MICRO DEVICES, INC.</td>\n      <td>AMD</td>\n      <td>360 Funds</td>\n      <td>360 funds</td>\n      <td>02-May-2018</td>\n      <td>Annual</td>\n      <td>Election of Director: Joseph A. Householder</td>\n      <td>Mgmt</td>\n      <td>For</td>\n    </tr>\n    <tr>\n      <th>4</th>\n      <td>007903107</td>\n      <td>ADVANCED MICRO DEVICES, INC.</td>\n      <td>AMD</td>\n      <td>360 Funds</td>\n      <td>360 funds</td>\n      <td>02-May-2018</td>\n      <td>Annual</td>\n      <td>Election of Director: Michael J. Inglis</td>\n      <td>Mgmt</td>\n      <td>For</td>\n    </tr>\n  </tbody>\n</table>\n</div>"
     },
     "metadata": {},
     "execution_count": 5
    }
   ],
   "source": [
    "df = pd.read_csv(\"results_2018/27_parent_fund_company_CX.csv\")\n",
    "df['parent_fund_company'] = df.parent_fund_company.str.lower()\n",
    "df.head()"
   ]
  },
  {
   "cell_type": "code",
   "execution_count": 8,
   "metadata": {},
   "outputs": [],
   "source": [
    "dataIO = NpxVote()\n",
    "dataIO.insert_dataframe(df)\n",
    "dataIO.close()"
   ]
  },
  {
   "cell_type": "code",
   "execution_count": null,
   "metadata": {},
   "outputs": [],
   "source": []
  },
  {
   "cell_type": "code",
   "execution_count": 5,
   "metadata": {},
   "outputs": [
    {
     "output_type": "stream",
     "name": "stderr",
     "text": "INFO:root:Start to download advisers inv.\nINFO:root:There are 1 funds in advisers inv.\nINFO:root:Obtain 1 funds after searching.\nINFO:root:advisers inv downloading completed.\n"
    }
   ],
   "source": [
    "ff = \"advisers inv\"\n",
    "ff = ff.lower()\n",
    "text_root = f\"results_2018/{ff}/text/\"\n",
    "if not os.path.isdir(f\"results_2018/{ff}/\"):\n",
    "    os.makedirs(text_root)\n",
    "link_table = scrape.download(ff, output_path=text_root, info_path=\"E:\\\\Marlowe\\\\RA\\\\npx_parse\\\\Edgar list2018_v2.xlsx\", info_crawl=None, year=2018)"
   ]
  },
  {
   "cell_type": "code",
   "execution_count": null,
   "metadata": {},
   "outputs": [],
   "source": [
    "\n"
   ]
  },
  {
   "cell_type": "code",
   "execution_count": 3,
   "metadata": {},
   "outputs": [
    {
     "output_type": "stream",
     "name": "stderr",
     "text": "INFO:root:Start to download columbia.\nINFO:root:There are 10 funds in columbia.\nWARNING:root:Found more than 1 funds after searching COLUMBIA FUNDS SERIES TRUST\nINFO:root:Obtain 10 funds after searching.\nINFO:root:columbia downloading completed.\nINFO:root:Start to parse 0001193125-18-253836.txt.\nINFO:root:There are 8 sub-funds in this file.\nWARNING:root:Bad Type. ['Elect Junichi Arai as Director']\nWARNING:root:Bad Type. ['For']\nWARNING:root:Bad Type. ['For']\nWARNING:root:Bad Type. ['Management']\nWARNING:root:Bad Type. ['2']\nWARNING:root:Bad Type. ['Elect David K. Chao as Director']\nWARNING:root:Bad Type. ['For']\nWARNING:root:Bad Type. ['For']\nWARNING:root:Bad Type. ['Management']\nWARNING:root:Bad Type. ['3']\nWARNING:root:Bad Type. ['Elect Li-Lan Cheng as Director']\nWARNING:root:Bad Type. ['For']\nWARNING:root:Bad Type. ['For']\nWARNING:root:Bad Type. ['Management']\nWARNING:root:Bad Type. ['4']\nWARNING:root:Bad Type. ['Elect Eric He as Director']\nWARNING:root:Bad Type. ['For']\nWARNING:root:Bad Type. ['For']\nWARNING:root:Bad Type. ['Management']\nWARNING:root:Bad Type. ['5']\nWARNING:root:Bad Type. ['Elect Rick Yan as Director']\nWARNING:root:Bad Type. ['For']\nWARNING:root:Bad Type. ['For']\nWARNING:root:Bad Type. ['Management']\nWARNING:root:Bad Type. ['6']\nWARNING:root:Bad Type. ['Approve Appointment of Auditor']\nWARNING:root:Bad Type. ['For']\nWARNING:root:Bad Type. ['For']\nWARNING:root:Bad Type. ['Management']\nWARNING:root:Bad Type. ['Approve Final Dividend']\nWARNING:root:Bad Type. ['For']\nWARNING:root:Bad Type. ['For']\nWARNING:root:Bad Type. ['Management']\nWARNING:root:Bad Type. ['2']\nWARNING:root:Bad Type. [\"Approve Directors' Fees\"]\nWARNING:root:Bad Type. ['For']\nWARNING:root:Bad Type. ['For']\nWARNING:root:Bad Type. ['Management']\nWARNING:root:Bad Type. ['3']\nWARNING:root:Bad Type. ['Elect Tetsuro Takano as Director']\nWARNING:root:Bad Type. ['For']\nWARNING:root:Bad Type. ['For']\nWARNING:root:Bad Type. ['Management']\nWARNING:root:Bad Type. ['4']\nWARNING:root:Bad Type. ['Elect S. Sunthara Moorthy A/L S']\nWARNING:root:Bad Type. ['For']\nWARNING:root:Bad Type. ['For']\nWARNING:root:Bad Type. ['Management']\n"
    },
    {
     "output_type": "error",
     "ename": "KeyError",
     "evalue": "'Proposal'",
     "traceback": [
      "\u001b[1;31m---------------------------------------------------------------------------\u001b[0m",
      "\u001b[1;31mKeyError\u001b[0m                                  Traceback (most recent call last)",
      "\u001b[1;32m<ipython-input-3-2e2f42a165af>\u001b[0m in \u001b[0;36m<module>\u001b[1;34m()\u001b[0m\n\u001b[0;32m      6\u001b[0m \u001b[0mlink_table\u001b[0m \u001b[1;33m=\u001b[0m \u001b[0mscrape\u001b[0m\u001b[1;33m.\u001b[0m\u001b[0mdownload\u001b[0m\u001b[1;33m(\u001b[0m\u001b[0mff\u001b[0m\u001b[1;33m,\u001b[0m \u001b[0moutput_path\u001b[0m\u001b[1;33m=\u001b[0m\u001b[0mtext_root\u001b[0m\u001b[1;33m,\u001b[0m \u001b[0minfo_path\u001b[0m\u001b[1;33m=\u001b[0m\u001b[1;34m\"E:\\\\Marlowe\\\\RA\\\\npx_parse\\\\Edgar list2019.xlsx\"\u001b[0m\u001b[1;33m,\u001b[0m \u001b[0minfo_crawl\u001b[0m\u001b[1;33m=\u001b[0m\u001b[1;32mNone\u001b[0m\u001b[1;33m)\u001b[0m\u001b[1;33m\u001b[0m\u001b[1;33m\u001b[0m\u001b[0m\n\u001b[0;32m      7\u001b[0m \u001b[1;31m# link_table = link_table[link_table.file_name == \"0001398344-18-012405.txt\"].reset_index(drop=True)\u001b[0m\u001b[1;33m\u001b[0m\u001b[1;33m\u001b[0m\u001b[1;33m\u001b[0m\u001b[0m\n\u001b[1;32m----> 8\u001b[1;33m \u001b[0mresults\u001b[0m \u001b[1;33m=\u001b[0m \u001b[0mbase\u001b[0m\u001b[1;33m.\u001b[0m\u001b[0mparse\u001b[0m\u001b[1;33m(\u001b[0m\u001b[0mlink_table\u001b[0m\u001b[1;33m,\u001b[0m \u001b[0mtext_root\u001b[0m\u001b[1;33m=\u001b[0m\u001b[0mtext_root\u001b[0m\u001b[1;33m)\u001b[0m\u001b[1;33m\u001b[0m\u001b[1;33m\u001b[0m\u001b[0m\n\u001b[0m",
      "\u001b[1;32me:\\Marlowe\\RA\\npx_parse\\fundscrape\\template\\base.py\u001b[0m in \u001b[0;36mparse\u001b[1;34m(link_table, text_root, first_separate, second_separate)\u001b[0m\n\u001b[0;32m    182\u001b[0m                                     \u001b[0madd\u001b[0m \u001b[1;33m=\u001b[0m \u001b[0mline\u001b[0m\u001b[1;33m[\u001b[0m\u001b[0mcpos\u001b[0m\u001b[1;33m[\u001b[0m\u001b[0mi\u001b[0m\u001b[1;33m]\u001b[0m\u001b[1;33m:\u001b[0m\u001b[0mcpos\u001b[0m\u001b[1;33m[\u001b[0m\u001b[0mi\u001b[0m\u001b[1;33m+\u001b[0m\u001b[1;36m1\u001b[0m\u001b[1;33m]\u001b[0m\u001b[1;33m]\u001b[0m\u001b[1;33m.\u001b[0m\u001b[0mstrip\u001b[0m\u001b[1;33m(\u001b[0m\u001b[1;33m)\u001b[0m\u001b[1;33m\u001b[0m\u001b[1;33m\u001b[0m\u001b[0m\n\u001b[0;32m    183\u001b[0m                                     \u001b[1;32mif\u001b[0m \u001b[0madd\u001b[0m\u001b[1;33m:\u001b[0m\u001b[1;33m\u001b[0m\u001b[1;33m\u001b[0m\u001b[0m\n\u001b[1;32m--> 184\u001b[1;33m                                         \u001b[0mdata\u001b[0m\u001b[1;33m[\u001b[0m\u001b[1;33m-\u001b[0m\u001b[1;36m1\u001b[0m\u001b[1;33m]\u001b[0m\u001b[1;33m[\u001b[0m\u001b[0mcnames\u001b[0m\u001b[1;33m[\u001b[0m\u001b[0mi\u001b[0m\u001b[1;33m]\u001b[0m\u001b[1;33m]\u001b[0m \u001b[1;33m+=\u001b[0m  \u001b[1;33m(\u001b[0m\u001b[1;34m\" \"\u001b[0m \u001b[1;33m+\u001b[0m \u001b[0madd\u001b[0m\u001b[1;33m)\u001b[0m\u001b[1;33m\u001b[0m\u001b[1;33m\u001b[0m\u001b[0m\n\u001b[0m\u001b[0;32m    185\u001b[0m                         \u001b[1;31m# finally, if a line in the table\u001b[0m\u001b[1;33m\u001b[0m\u001b[1;33m\u001b[0m\u001b[1;33m\u001b[0m\u001b[0m\n\u001b[0;32m    186\u001b[0m                         \u001b[1;31m# use the position of columns to get the text\u001b[0m\u001b[1;33m\u001b[0m\u001b[1;33m\u001b[0m\u001b[1;33m\u001b[0m\u001b[0m\n",
      "\u001b[1;31mKeyError\u001b[0m: 'Proposal'"
     ]
    }
   ],
   "source": [
    "ff = \"columbia\"\n",
    "ff = ff.lower()\n",
    "text_root = f\"results_2019/{ff}/text/\"\n",
    "if not os.path.isdir(f\"results_2019/{ff}/\"):\n",
    "    os.makedirs(text_root)\n",
    "link_table = scrape.download(ff, output_path=text_root, info_path=\"E:\\\\Marlowe\\\\RA\\\\npx_parse\\\\Edgar list2019.xlsx\", info_crawl=None)\n",
    "# link_table = link_table[link_table.file_name == \"0001398344-18-012405.txt\"].reset_index(drop=True)\n",
    "results = base.parse(link_table, text_root=text_root)"
   ]
  },
  {
   "cell_type": "code",
   "execution_count": null,
   "metadata": {},
   "outputs": [],
   "source": []
  }
 ],
 "metadata": {
  "language_info": {
   "name": "python",
   "codemirror_mode": {
    "name": "ipython",
    "version": 3
   },
   "version": "3.7.3-final"
  },
  "orig_nbformat": 2,
  "file_extension": ".py",
  "mimetype": "text/x-python",
  "name": "python",
  "npconvert_exporter": "python",
  "pygments_lexer": "ipython3",
  "version": 3,
  "kernelspec": {
   "name": "python3",
   "display_name": "Python 3"
  }
 },
 "nbformat": 4,
 "nbformat_minor": 2
}