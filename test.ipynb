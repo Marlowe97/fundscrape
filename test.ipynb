{
 "cells": [
  {
   "cell_type": "code",
   "execution_count": 1,
   "metadata": {},
   "outputs": [],
   "source": [
    "import os\n",
    "import scrape\n",
    "import sys\n",
    "sys.path.append(\"..\")\n",
    "from fundscrape.template import base, two_lines, up_down, blue\n",
    "import logging\n",
    "import pandas as pd\n",
    "from tqdm import tqdm\n",
    "\n",
    "os.chdir(\"E:/Marlowe/RA/npx_parse/\")\n",
    "\n",
    "# Read the file\n",
    "# category = pd.read_excel(\"Edgar list2019.xlsx\", sheet_name=\"category\")"
   ]
  },
  {
   "cell_type": "code",
   "execution_count": 2,
   "metadata": {},
   "outputs": [],
   "source": [
    "logger = logging.getLogger()\n",
    "logger.setLevel(logging.INFO)"
   ]
  },
  {
   "cell_type": "code",
   "execution_count": 3,
   "metadata": {},
   "outputs": [
    {
     "output_type": "stream",
     "name": "stderr",
     "text": "INFO:root:Start to download columbia.\nINFO:root:There are 10 funds in columbia.\nWARNING:root:Found more than 1 funds after searching COLUMBIA FUNDS SERIES TRUST\nINFO:root:Obtain 10 funds after searching.\nINFO:root:columbia downloading completed.\nINFO:root:Start to parse 0001193125-18-253836.txt.\nINFO:root:There are 8 sub-funds in this file.\nWARNING:root:Bad Type. ['Elect Junichi Arai as Director']\nWARNING:root:Bad Type. ['For']\nWARNING:root:Bad Type. ['For']\nWARNING:root:Bad Type. ['Management']\nWARNING:root:Bad Type. ['2']\nWARNING:root:Bad Type. ['Elect David K. Chao as Director']\nWARNING:root:Bad Type. ['For']\nWARNING:root:Bad Type. ['For']\nWARNING:root:Bad Type. ['Management']\nWARNING:root:Bad Type. ['3']\nWARNING:root:Bad Type. ['Elect Li-Lan Cheng as Director']\nWARNING:root:Bad Type. ['For']\nWARNING:root:Bad Type. ['For']\nWARNING:root:Bad Type. ['Management']\nWARNING:root:Bad Type. ['4']\nWARNING:root:Bad Type. ['Elect Eric He as Director']\nWARNING:root:Bad Type. ['For']\nWARNING:root:Bad Type. ['For']\nWARNING:root:Bad Type. ['Management']\nWARNING:root:Bad Type. ['5']\nWARNING:root:Bad Type. ['Elect Rick Yan as Director']\nWARNING:root:Bad Type. ['For']\nWARNING:root:Bad Type. ['For']\nWARNING:root:Bad Type. ['Management']\nWARNING:root:Bad Type. ['6']\nWARNING:root:Bad Type. ['Approve Appointment of Auditor']\nWARNING:root:Bad Type. ['For']\nWARNING:root:Bad Type. ['For']\nWARNING:root:Bad Type. ['Management']\nWARNING:root:Bad Type. ['Approve Final Dividend']\nWARNING:root:Bad Type. ['For']\nWARNING:root:Bad Type. ['For']\nWARNING:root:Bad Type. ['Management']\nWARNING:root:Bad Type. ['2']\nWARNING:root:Bad Type. [\"Approve Directors' Fees\"]\nWARNING:root:Bad Type. ['For']\nWARNING:root:Bad Type. ['For']\nWARNING:root:Bad Type. ['Management']\nWARNING:root:Bad Type. ['3']\nWARNING:root:Bad Type. ['Elect Tetsuro Takano as Director']\nWARNING:root:Bad Type. ['For']\nWARNING:root:Bad Type. ['For']\nWARNING:root:Bad Type. ['Management']\nWARNING:root:Bad Type. ['4']\nWARNING:root:Bad Type. ['Elect S. Sunthara Moorthy A/L S']\nWARNING:root:Bad Type. ['For']\nWARNING:root:Bad Type. ['For']\nWARNING:root:Bad Type. ['Management']\n"
    },
    {
     "output_type": "error",
     "ename": "KeyError",
     "evalue": "'Proposal'",
     "traceback": [
      "\u001b[1;31m---------------------------------------------------------------------------\u001b[0m",
      "\u001b[1;31mKeyError\u001b[0m                                  Traceback (most recent call last)",
      "\u001b[1;32m<ipython-input-3-2e2f42a165af>\u001b[0m in \u001b[0;36m<module>\u001b[1;34m()\u001b[0m\n\u001b[0;32m      6\u001b[0m \u001b[0mlink_table\u001b[0m \u001b[1;33m=\u001b[0m \u001b[0mscrape\u001b[0m\u001b[1;33m.\u001b[0m\u001b[0mdownload\u001b[0m\u001b[1;33m(\u001b[0m\u001b[0mff\u001b[0m\u001b[1;33m,\u001b[0m \u001b[0moutput_path\u001b[0m\u001b[1;33m=\u001b[0m\u001b[0mtext_root\u001b[0m\u001b[1;33m,\u001b[0m \u001b[0minfo_path\u001b[0m\u001b[1;33m=\u001b[0m\u001b[1;34m\"E:\\\\Marlowe\\\\RA\\\\npx_parse\\\\Edgar list2019.xlsx\"\u001b[0m\u001b[1;33m,\u001b[0m \u001b[0minfo_crawl\u001b[0m\u001b[1;33m=\u001b[0m\u001b[1;32mNone\u001b[0m\u001b[1;33m)\u001b[0m\u001b[1;33m\u001b[0m\u001b[1;33m\u001b[0m\u001b[0m\n\u001b[0;32m      7\u001b[0m \u001b[1;31m# link_table = link_table[link_table.file_name == \"0001398344-18-012405.txt\"].reset_index(drop=True)\u001b[0m\u001b[1;33m\u001b[0m\u001b[1;33m\u001b[0m\u001b[1;33m\u001b[0m\u001b[0m\n\u001b[1;32m----> 8\u001b[1;33m \u001b[0mresults\u001b[0m \u001b[1;33m=\u001b[0m \u001b[0mbase\u001b[0m\u001b[1;33m.\u001b[0m\u001b[0mparse\u001b[0m\u001b[1;33m(\u001b[0m\u001b[0mlink_table\u001b[0m\u001b[1;33m,\u001b[0m \u001b[0mtext_root\u001b[0m\u001b[1;33m=\u001b[0m\u001b[0mtext_root\u001b[0m\u001b[1;33m)\u001b[0m\u001b[1;33m\u001b[0m\u001b[1;33m\u001b[0m\u001b[0m\n\u001b[0m",
      "\u001b[1;32me:\\Marlowe\\RA\\npx_parse\\fundscrape\\template\\base.py\u001b[0m in \u001b[0;36mparse\u001b[1;34m(link_table, text_root, first_separate, second_separate)\u001b[0m\n\u001b[0;32m    182\u001b[0m                                     \u001b[0madd\u001b[0m \u001b[1;33m=\u001b[0m \u001b[0mline\u001b[0m\u001b[1;33m[\u001b[0m\u001b[0mcpos\u001b[0m\u001b[1;33m[\u001b[0m\u001b[0mi\u001b[0m\u001b[1;33m]\u001b[0m\u001b[1;33m:\u001b[0m\u001b[0mcpos\u001b[0m\u001b[1;33m[\u001b[0m\u001b[0mi\u001b[0m\u001b[1;33m+\u001b[0m\u001b[1;36m1\u001b[0m\u001b[1;33m]\u001b[0m\u001b[1;33m]\u001b[0m\u001b[1;33m.\u001b[0m\u001b[0mstrip\u001b[0m\u001b[1;33m(\u001b[0m\u001b[1;33m)\u001b[0m\u001b[1;33m\u001b[0m\u001b[1;33m\u001b[0m\u001b[0m\n\u001b[0;32m    183\u001b[0m                                     \u001b[1;32mif\u001b[0m \u001b[0madd\u001b[0m\u001b[1;33m:\u001b[0m\u001b[1;33m\u001b[0m\u001b[1;33m\u001b[0m\u001b[0m\n\u001b[1;32m--> 184\u001b[1;33m                                         \u001b[0mdata\u001b[0m\u001b[1;33m[\u001b[0m\u001b[1;33m-\u001b[0m\u001b[1;36m1\u001b[0m\u001b[1;33m]\u001b[0m\u001b[1;33m[\u001b[0m\u001b[0mcnames\u001b[0m\u001b[1;33m[\u001b[0m\u001b[0mi\u001b[0m\u001b[1;33m]\u001b[0m\u001b[1;33m]\u001b[0m \u001b[1;33m+=\u001b[0m  \u001b[1;33m(\u001b[0m\u001b[1;34m\" \"\u001b[0m \u001b[1;33m+\u001b[0m \u001b[0madd\u001b[0m\u001b[1;33m)\u001b[0m\u001b[1;33m\u001b[0m\u001b[1;33m\u001b[0m\u001b[0m\n\u001b[0m\u001b[0;32m    185\u001b[0m                         \u001b[1;31m# finally, if a line in the table\u001b[0m\u001b[1;33m\u001b[0m\u001b[1;33m\u001b[0m\u001b[1;33m\u001b[0m\u001b[0m\n\u001b[0;32m    186\u001b[0m                         \u001b[1;31m# use the position of columns to get the text\u001b[0m\u001b[1;33m\u001b[0m\u001b[1;33m\u001b[0m\u001b[1;33m\u001b[0m\u001b[0m\n",
      "\u001b[1;31mKeyError\u001b[0m: 'Proposal'"
     ]
    }
   ],
   "source": [
    "ff = \"columbia\"\n",
    "ff = ff.lower()\n",
    "text_root = f\"results_2019/{ff}/text/\"\n",
    "if not os.path.isdir(f\"results_2019/{ff}/\"):\n",
    "    os.makedirs(text_root)\n",
    "link_table = scrape.download(ff, output_path=text_root, info_path=\"E:\\\\Marlowe\\\\RA\\\\npx_parse\\\\Edgar list2019.xlsx\", info_crawl=None)\n",
    "# link_table = link_table[link_table.file_name == \"0001398344-18-012405.txt\"].reset_index(drop=True)\n",
    "results = base.parse(link_table, text_root=text_root)"
   ]
  },
  {
   "cell_type": "code",
   "execution_count": null,
   "metadata": {},
   "outputs": [],
   "source": []
  }
 ],
 "metadata": {
  "language_info": {
   "name": "python",
   "codemirror_mode": {
    "name": "ipython",
    "version": 3
   },
   "version": "3.7.3-final"
  },
  "orig_nbformat": 2,
  "file_extension": ".py",
  "mimetype": "text/x-python",
  "name": "python",
  "npconvert_exporter": "python",
  "pygments_lexer": "ipython3",
  "version": 3,
  "kernelspec": {
   "name": "python3",
   "display_name": "Python 3"
  }
 },
 "nbformat": 4,
 "nbformat_minor": 2
}